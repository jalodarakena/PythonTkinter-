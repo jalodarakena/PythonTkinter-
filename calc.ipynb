{
 "cells": [
  {
   "cell_type": "code",
   "execution_count": null,
   "metadata": {},
   "outputs": [],
   "source": [
    "from tkinter import*\n",
    "win = Tk()\n",
    "win.title('Calculator')\n",
    "entry1 = Entry(win).place(x=0,y=0,width=220)\n",
    "def set_text(text):\n",
    "    entry1.delete(0,END)\n",
    "    entry1.insert(0,text)\n",
    "    return\n",
    "\n"
   ]
  },
  {
   "cell_type": "code",
   "execution_count": null,
   "metadata": {},
   "outputs": [],
   "source": []
  },
  {
   "cell_type": "code",
   "execution_count": null,
   "metadata": {},
   "outputs": [],
   "source": [
    "aC = Button(win, text=\"C\",command=lambda:set_text(\"0\"))\n",
    "aC.place(x=0, y=30,width=200)\n",
    "a1 = Button(win, text=\"1\",command=lambda:set_text(\"1\"))\n",
    "a1.place(x=0, y=70)\n",
    "a2 = Button(win, text=\"2\",command=lambda:set_text(\"2\"))\n",
    "a2.place(x=60, y=70)\n",
    "a3 = Button(win, text=\"3\",command=lambda:set_text(\"3\"))\n",
    "a3.place(x=120, y=70)\n",
    "a4 = Button(win, text=\"4\",command=lambda:set_text(\"4\"))\n",
    "a4.place(x=0, y=110)\n",
    "a5 = Button(win, text=\"5\",command=lambda:set_text(\"5\"))\n",
    "a5.place(x=60, y=110)\n",
    "a6 = Button(win, text=\"6\",command=lambda:set_text(\"6\"))\n",
    "a6.place(x=120, y=110)\n",
    "a7 = Button(win, text=\"7\",command=lambda:set_text(\"7\"))\n",
    "a7.place(x=0, y=150)\n",
    "a8 = Button(win, text=\"8\",command=lambda:set_text(\"8\"))\n",
    "a8.place(x=60, y=150)\n",
    "a9 = Button(win, text=\"9\",command=lambda:set_text(\"9\"))\n",
    "a9.place(x=120, y=150)\n",
    "a0 = Button(win, text=\"0\",command=lambda:set_text(\"0\"))\n",
    "a0.place(x=0, y=200,width=200)\n",
    "am = Button(win, text=\"*\",command=lambda:set_text(\"*\"))\n",
    "am.place(x=180, y=30)\n",
    "ad = Button(win, text=\"/\",command=lambda:set_text(\"/\"))\n",
    "ad.place(x=180, y=70)\n",
    "ami = Button(win, text=\"-\",command=lambda:set_text(\"-\"))\n",
    "ami.place(x=180, y=110)\n",
    "ama = Button(win, text=\"+\",command=lambda:set_text(\"+\"))\n",
    "ama.place(x=180, y=150)\n",
    "aeq = Button(win, text=\"=\",command=lambda:set_text(\"=\"))\n",
    "aeq.place(x=180, y=200)\n",
    "\n",
    "\n",
    "\n",
    "\n",
    "\n",
    "\n"
   ]
  },
  {
   "cell_type": "code",
   "execution_count": null,
   "metadata": {},
   "outputs": [],
   "source": [
    "mainloop()\n"
   ]
  },
  {
   "cell_type": "code",
   "execution_count": null,
   "metadata": {},
   "outputs": [],
   "source": [
    "\n",
    "\n",
    "\n",
    "\n"
   ]
  },
  {
   "cell_type": "code",
   "execution_count": null,
   "metadata": {},
   "outputs": [],
   "source": [
    "\n"
   ]
  },
  {
   "cell_type": "code",
   "execution_count": null,
   "metadata": {},
   "outputs": [],
   "source": []
  },
  {
   "cell_type": "code",
   "execution_count": null,
   "metadata": {},
   "outputs": [],
   "source": []
  }
 ],
 "metadata": {
  "kernelspec": {
   "display_name": "Python 3",
   "language": "python",
   "name": "python3"
  },
  "language_info": {
   "codemirror_mode": {
    "name": "ipython",
    "version": 3
   },
   "file_extension": ".py",
   "mimetype": "text/x-python",
   "name": "python",
   "nbconvert_exporter": "python",
   "pygments_lexer": "ipython3",
   "version": "3.8.5"
  }
 },
 "nbformat": 4,
 "nbformat_minor": 4
}
